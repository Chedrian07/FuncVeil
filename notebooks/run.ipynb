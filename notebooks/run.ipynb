{
 "cells": [
  {
   "cell_type": "markdown",
   "metadata": {},
   "source": [
    "# FuncVeil: 미적분 기반 개인정보 마스킹 시스템 데모\n",
    "\n",
    "이 노트북은 미적분 개념을 활용한 비가역적 개인정보 마스킹 알고리즘을 소개합니다. 고등학교 교육과정에서 배우는 미적분 지식을 활용하여 개인정보를 보호하면서도 통계적 분석이 가능한 데이터로 변환하는 방법을 시연합니다."
   ]
  },
  {
   "cell_type": "code",
   "execution_count": null,
   "metadata": {},
   "source": [
    "# 필요한 라이브러리 임포트\n",
    "import numpy as np\n",
    "import pandas as pd\n",
    "import matplotlib.pyplot as plt\n",
    "import seaborn as sns\n",
    "import sys\n",
    "import os\n",
    "\n",
    "# 패키지 경로 추가 (필요한 경우 주석 해제)\n",
    "# sys.path.insert(0, os.path.abspath('..'))\n",
    "\n",
    "# FuncVeil 라이브러리 임포트\n",
    "from funcveil.masking.sin import SinMask\n",
    "from funcveil.masking.logexp import LogExpMask\n",
    "from funcveil.masking.composite import CompositeMask\n",
    "from funcveil.masking.hmac_mask import HMACMask\n",
    "from funcveil.evaluation.reversibility import calculate_invertibility_score, visualize_mask_function\n",
    "from funcveil.evaluation.dp_sensitivity import evaluate_dp_sensitivity, compare_dp_impact\n",
    "from funcveil.evaluation.benchmarks import compare_masking_methods, generate_benchmark_summary\n",
    "from funcveil.utils import set_seed\n",
    "\n",
    "# 시각화 설정\n",
    "plt.style.use('seaborn-v0_8-whitegrid')\n",
    "plt.rcParams['figure.figsize'] = (12, 8)\n",
    "plt.rcParams['font.size'] = 12\n",
    "\n",
    "# 난수 시드 설정 (재현성)\n",
    "set_seed(42)"
   ]
  },
  {
   "cell_type": "markdown",
   "metadata": {},
   "source": [
    "## 1. 샘플 데이터 생성\n",
    "\n",
    "먼저 마스킹 알고리즘을 시연하기 위한 샘플 데이터를 생성합니다. 프로젝트 기획서에서 제시한 것과 유사한 구조의 개인정보 데이터를 만들어 보겠습니다."
   ]
  }
 ],
 "metadata": {
  "kernelspec": {
   "display_name": "Python 3",
   "language": "python",
   "name": "python3"
  },
  "language_info": {
   "codemirror_mode": {
    "name": "ipython",
    "version": 3
   },
   "file_extension": ".py",
   "mimetype": "text/x-python",
   "name": "python",
   "nbconvert_exporter": "python",
   "pygments_lexer": "ipython3",
   "version": "3.8.10"
  }
 },
 "nbformat": 4,
 "nbformat_minor": 4
}
{
 "cells": [
  {
   "cell_type": "code",
   "execution_count": null,
   "metadata": {},
   "source": [
    "# 샘플 데이터 생성\n",
    "np.random.seed(42)\n",
    "n_samples = 30\n",
    "\n",
    "# 데이터 생성\n",
    "data = {\n",
    "    'ID': list(range(1, n_samples + 1)),\n",
    "    '이름': [f'사용자{i}' for i in range(1, n_samples + 1)],\n",
    "    '나이': np.random.randint(25, 45, n_samples),\n",
    "    '연봉': np.random.normal(4000000, 1000000, n_samples).astype(int),\n",
    "    '주민번호': [f'{900101+i:06d}-{np.random.randint(1000000, 9999999):07d}' for i in range(n_samples)],\n",
    "    '생년월일': [f'{1979+i//10:4d}-{(i%12)+1:02d}-{np.random.randint(1, 29):02d}' for i in range(n_samples)]\n",
    "}\n",
    "\n",
    "# 데이터프레임 생성\n",
    "df = pd.DataFrame(data)\n",
    "\n",
    "# 데이터 확인\n",
    "print(f\"데이터 형태: {df.shape}\")\n",
    "df.head()"
   ]
  },
  {
   "cell_type": "markdown",
   "metadata": {},
   "source": [
    "## 2. 기본 연속 함수 기반 마스킹 (sin 함수)\n",
    "\n",
    "먼저 가장 기본적인 마스킹 방법인 사인 함수를 사용한 마스킹을 구현해 보겠습니다. 기본 수식은 다음과 같습니다:\n",
    "\n",
    "$$f(x) = A \\cdot \\sin(\\omega \\cdot \\frac{x - L}{U - L} + \\phi) + B$$\n",
    "\n",
    "여기서:\n",
    "- $x \\in [L, U]$: 정규화된 입력값 범위\n",
    "- $A, \\omega, \\phi, B$: 시드 기반으로 생성되는 파라미터"
   ]
  }
 ],
 "metadata": {},
 "nbformat": 4,
 "nbformat_minor": 4
}
{
 "cells": [
  {
   "cell_type": "code",
   "execution_count": null,
   "metadata": {},
   "source": [
    "# '나이' 필드에 대해 사인 함수 마스킹 적용하기\n",
    "# 1. 마스킹 객체 생성\n",
    "age_mask = SinMask(seed=42)\n",
    "\n",
    "# 2. 데이터 범위에 맞게 초기화\n",
    "age_mask.fit(df['나이'].values)\n",
    "\n",
    "# 3. 마스킹 적용\n",
    "df['나이_마스킹'] = df['나이'].apply(lambda x: age_mask(x))\n",
    "\n",
    "# 4. 결과 확인\n",
    "print(\"원본 데이터 vs 마스킹 데이터:\")\n",
    "print(df[['나이', '나이_마스킹']].head())\n",
    "\n",
    "# 5. 마스킹 함수 시각화\n",
    "visualize_mask_function(age_mask)"
   ]
  },
  {
   "cell_type": "markdown",
   "metadata": {},
   "source": [
    "### 마스킹 함수의 역변환 가능성 평가\n",
    "\n",
    "동일한 마스킹 결과값에 여러 입력값이 대응되는 경우, 마스킹의 비가역성이 높아집니다. 이를 정량적으로 평가해 보겠습니다."
   ]
  },
  {
   "cell_type": "code",
   "execution_count": null,
   "metadata": {},
   "source": [
    "# 역변환 가능성 점수 계산 (값이 클수록 역변환 어려움)\n",
    "inv_score = calculate_invertibility_score(age_mask, plot=True)\n",
    "print(f\"역변환 가능성 점수: {inv_score:.2f} (1.0은 일대일 대응, 값이 클수록 역변환 어려움)\")"
   ]
  },
  {
   "cell_type": "markdown",
   "metadata": {},
   "source": [
    "## 3. 단조성 제한 옵션 적용\n",
    "\n",
    "단조 구간을 제한하여 역함수가 존재하도록 만들 수 있습니다. 이는 교육적 목적으로 활용할 수 있으며, `-invertible` CLI 옵션으로 활성화할 수 있습니다.\n",
    "\n",
    "$$\\omega (U - L) \\leq \\pi$$\n",
    "\n",
    "위 조건을 적용하면 마스킹 함수가 단조 증가하게 됩니다."
   ]
  }
 ],
 "metadata": {},
 "nbformat": 4,
 "nbformat_minor": 4
}
{
 "cells": [
  {
   "cell_type": "code",
   "execution_count": null,
   "metadata": {},
   "source": [
    "# 단조 제한 옵션 적용한 마스킹\n",
    "monotonic_mask = SinMask(seed=42, monotonic=True)\n",
    "monotonic_mask.fit(df['나이'].values)\n",
    "\n",
    "# 마스킹 적용\n",
    "df['나이_단조마스킹'] = df['나이'].apply(lambda x: monotonic_mask(x))\n",
    "\n",
    "# 결과 비교\n",
    "print(\"원본 데이터 vs 마스킹 데이터 vs 단조 마스킹:\")\n",
    "print(df[['나이', '나이_마스킹', '나이_단조마스킹']].head())\n",
    "\n",
    "# 마스킹 함수 시각화\n",
    "visualize_mask_function(monotonic_mask)"
   ]
  },
  {
   "cell_type": "code",
   "execution_count": null,
   "metadata": {},
   "source": [
    "# 역변환 가능성 점수 비교\n",
    "mono_inv_score = calculate_invertibility_score(monotonic_mask, plot=True)\n",
    "print(f\"단조 마스킹 역변환 가능성 점수: {mono_inv_score:.2f}\")\n",
    "print(f\"일반 마스킹 역변환 가능성 점수: {inv_score:.2f}\")\n",
    "print(f\"단조 제한 옵션 적용 시 역변환 가능성이 {mono_inv_score/inv_score:.2f}배 증가\")"
   ]
  },
  {
   "cell_type": "markdown",
   "metadata": {},
   "source": [
    "## 4. 다양한 마스킹 함수 적용\n",
    "\n",
    "이제 다른 마스킹 함수들을 적용해 보겠습니다. 지수/로그 함수, 복합 함수, HMAC 결합 마스킹을 차례로 적용하고 결과를 비교해 봅시다."
   ]
  },
  {
   "cell_type": "code",
   "execution_count": null,
   "metadata": {},
   "source": [
    "# 다양한 마스킹 함수들\n",
    "\n",
    "# 1. 지수 함수 마스킹\n",
    "exp_mask = LogExpMask(seed=42, use_log=False)\n",
    "exp_mask.fit(df['나이'].values)\n",
    "df['나이_지수마스킹'] = df['나이'].apply(lambda x: exp_mask(x))\n",
    "\n",
    "# 2. 로그 함수 마스킹\n",
    "log_mask = LogExpMask(seed=42, use_log=True)\n",
    "log_mask.fit(df['나이'].values)\n",
    "df['나이_로그마스킹'] = df['나이'].apply(lambda x: log_mask(x))"
   ]
  }
 ],
 "metadata": {},
 "nbformat": 4,
 "nbformat_minor": 4
}
{
 "cells": [
  {
   "cell_type": "code",
   "execution_count": null,
   "metadata": {},
   "source": [
    "# 3. 복합 함수 마스킹 (sin + cos)\n",
    "composite_mask = CompositeMask(seed=42)\n",
    "composite_mask.fit(df['나이'].values)\n",
    "df['나이_복합마스킹'] = df['나이'].apply(lambda x: composite_mask(x))\n",
    "\n",
    "# 4. HMAC 결합 마스킹\n",
    "hmac_mask = HMACMask(seed=42, hmac_key=\"secret_key_123\")\n",
    "hmac_mask.fit(df['나이'].values)\n",
    "df['나이_HMAC마스킹'] = df['나이'].apply(lambda x: hmac_mask(x))\n",
    "\n",
    "# 결과 비교\n",
    "print(\"다양한 마스킹 함수 결과 비교:\")\n",
    "mask_cols = ['나이', '나이_마스킹', '나이_지수마스킹', '나이_로그마스킹', '나이_복합마스킹', '나이_HMAC마스킹']\n",
    "print(df[mask_cols].head())"
   ]
  },
  {
   "cell_type": "code",
   "execution_count": null,
   "metadata": {},
   "source": [
    "# 다양한 마스킹 함수 시각화 및 비교\n",
    "masks = {\n",
    "    'SinMask': age_mask,\n",
    "    'MonotonicSinMask': monotonic_mask,\n",
    "    'ExpMask': exp_mask,\n",
    "    'LogMask': log_mask,\n",
    "    'CompositeMask': composite_mask\n",
    "}\n",
    "\n",
    "# 데이터 범위\n",
    "data_range = (df['나이'].min(), df['나이'].max())\n",
    "\n",
    "# 마스킹 함수 비교\n",
    "benchmark_results = compare_masking_methods(masks, data_range)\n",
    "\n",
    "# 요약 표 생성\n",
    "summary_df = generate_benchmark_summary(benchmark_results)\n",
    "summary_df"
   ]
  },
  {
   "cell_type": "markdown",
   "metadata": {},
   "source": [
    "## 5. 차분 프라이버시(DP) 노이즈 결합\n",
    "\n",
    "마스킹 함수에 차분 프라이버시 노이즈를 추가하여 더 강력한 개인정보 보호 기능을 구현할 수 있습니다. 이 과정에서 도함수(민감도)가 중요한 역할을 합니다.\n",
    "\n",
    "$$f(x) = round(f(x) + L(b), n), b = \\frac{\\Delta f}{\\epsilon}$$\n",
    "\n",
    "여기서:\n",
    "- $L(b)$: 라플라스 노이즈\n",
    "- $\\Delta f = \\max |f'(x)|$: 도함수 기반 민감도\n",
    "- $\\epsilon$: 프라이버시 파라미터 (작을수록 보호 강화, 노이즈 증가)"
   ]
  }
 ],
 "metadata": {},
 "nbformat": 4,
 "nbformat_minor": 4
}
{
 "cells": [
  {
   "cell_type": "code",
   "execution_count": null,
   "metadata": {},
   "source": [
    "# DP 적용을 위한 마스킹 함수\n",
    "dp_mask = SinMask(seed=42, dp_epsilon=1.0)  # ε = 1.0\n",
    "dp_mask.fit(df['나이'].values)\n",
    "\n",
    "# DP 적용 마스킹 수행 (여러 번 실행 시 다른 결과)\n",
    "df['나이_DP마스킹_1'] = df['나이'].apply(lambda x: dp_mask(x))\n",
    "df['나이_DP마스킹_2'] = df['나이'].apply(lambda x: dp_mask(x))\n",
    "\n",
    "# 결과 비교\n",
    "print(\"차분 프라이버시 적용 결과 (동일 입력에 대해 다른 결과):\")\n",
    "print(df[['나이', '나이_마스킹', '나이_DP마스킹_1', '나이_DP마스킹_2']].head())"
   ]
  },
  {
   "cell_type": "code",
   "execution_count": null,
   "metadata": {},
   "source": [
    "# 다양한 엡실론 값에 따른 DP 효과 비교\n",
    "epsilon_values = [0.1, 0.5, 1.0, 5.0, 10.0]\n",
    "\n",
    "# DP 민감도 평가\n",
    "dp_stats = evaluate_dp_sensitivity(dp_mask, epsilon_values=epsilon_values)\n",
    "\n",
    "# DP 적용 효과 시각화\n",
    "compare_dp_impact(dp_mask, epsilon_values=epsilon_values)"
   ]
  },
  {
   "cell_type": "markdown",
   "metadata": {},
   "source": [
    "## 6. 다른 필드에 대한 마스킹 적용\n",
    "\n",
    "이제 다른 필드('연봉')에 대해서도 마스킹을 적용해 보겠습니다."
   ]
  },
  {
   "cell_type": "code",
   "execution_count": null,
   "metadata": {},
   "source": [
    "# 연봉 필드에 대한 마스킹\n",
    "salary_mask = LogExpMask(seed=42, dp_epsilon=0.5)  # 로그 기반 마스킹 + DP\n",
    "salary_mask.fit(df['연봉'].values)\n",
    "df['연봉_마스킹'] = df['연봉'].apply(lambda x: salary_mask(x))\n",
    "\n",
    "# 결과 확인\n",
    "print(\"연봉 마스킹 결과:\")\n",
    "print(df[['연봉', '연봉_마스킹']].head())\n",
    "\n",
    "# 마스킹 함수 시각화\n",
    "visualize_mask_function(salary_mask)"
   ]
  }
 ],
 "metadata": {},
 "nbformat": 4,
 "nbformat_minor": 4
}
{
 "cells": [
  {
   "cell_type": "markdown",
   "metadata": {},
   "source": [
    "## 7. 전체 데이터 마스킹 및 저장\n",
    "\n",
    "이제 전체 데이터프레임의 민감한 필드에 적절한 마스킹을 모두 적용해 보겠습니다."
   ]
  },
  {
   "cell_type": "code",
   "execution_count": null,
   "metadata": {},
   "source": [
    "# 주민번호 마스킹 (HMAC 활용)\n",
    "id_mask = HMACMask(seed=42, hmac_key=\"highly_secure_key\")\n",
    "# 주민번호는 숫자가 아닌 문자열이지만, ID 값으로 피팅\n",
    "id_mask.fit(df['ID'].values)\n",
    "df['주민번호_마스킹'] = df['주민번호'].apply(lambda x: id_mask(hash(x)))\n",
    "\n",
    "# 생년월일 마스킹 (복합 함수 + DP)\n",
    "date_mask = CompositeMask(seed=42, dp_epsilon=1.0)\n",
    "date_mask.fit(df['ID'].values)  # ID로 피팅\n",
    "df['생년월일_마스킹'] = df['생년월일'].apply(lambda x: f\"DATE-{date_mask(hash(x))}\")\n",
    "\n",
    "# 최종 마스킹된 데이터프레임 생성\n",
    "masked_df = df[['ID', '이름', '나이_마스킹', '연봉_마스킹', '주민번호_마스킹', '생년월일_마스킹']]\n",
    "masked_df.columns = ['ID', '이름', '나이', '연봉', '주민번호', '생년월일']  # 원래 열 이름으로 변경\n",
    "\n",
    "# 결과 확인\n",
    "print(\"최종 마스킹된 데이터:\")\n",
    "masked_df.head()"
   ]
  },
  {
   "cell_type": "code",
   "execution_count": null,
   "metadata": {},
   "source": [
    "# 결과 저장 (선택적)\n",
    "# masked_df.to_csv('masked_personal_data.csv', index=False)\n",
    "# print(\"마스킹된 데이터를 'masked_personal_data.csv'로 저장했습니다.\")"
   ]
  },
  {
   "cell_type": "markdown",
   "metadata": {},
   "source": [
    "## 8. 결론 및 교육적 활용 방안\n",
    "\n",
    "지금까지 미적분 개념을 활용한 다양한 마스킹 기법을 살펴보았습니다. 이 프로젝트는 수학적 개념을 실생활 문제(개인정보 보호)에 적용하는 방법을 보여주는 좋은 예시입니다.\n",
    "\n",
    "### 교육적 활용 방안\n",
    "\n",
    "1. **연속함수**: 입력 데이터를 마스킹하는 함수를 정의하고 특성 탐구\n",
    "2. **도함수**: 함수의 민감도를 계산하고 차분 프라이버시에 활용\n",
    "3. **합성함수**: 여러 함수를 조합한 복합 마스킹 함수 설계\n",
    "4. **역함수**: 단조성을 제한하여 역함수 존재 여부 제어\n",
    "5. **통계 및 데이터 과학**: 마스킹된 데이터에 대한 통계적 특성 분석\n",
    "\n",
    "이 노트북을 통해 학생들은 고등학교 교육과정에서 배우는 미적분 개념이 실제 프라이버시 보호 및 데이터 과학 분야에서 어떻게 활용될 수 있는지 체험할 수 있습니다."
   ]
  }
 ],
 "metadata": {},
 "nbformat": 4,
 "nbformat_minor": 4
}
